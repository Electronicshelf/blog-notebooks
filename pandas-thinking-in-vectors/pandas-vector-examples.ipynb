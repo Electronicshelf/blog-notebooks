{
 "cells": [
  {
   "cell_type": "code",
   "execution_count": 1,
   "metadata": {
    "collapsed": true
   },
   "outputs": [],
   "source": [
    "import pandas as pd\n",
    "import numpy as np"
   ]
  },
  {
   "cell_type": "markdown",
   "metadata": {},
   "source": [
    "# Example 1 - consecutive rows\n",
    "\n",
    "Create a synthetic time series dataset and calculate the \"rolling difference\""
   ]
  },
  {
   "cell_type": "code",
   "execution_count": 2,
   "metadata": {
    "collapsed": false
   },
   "outputs": [
    {
     "name": "stdout",
     "output_type": "stream",
     "text": [
      "44581\n"
     ]
    },
    {
     "data": {
      "text/html": [
       "<div>\n",
       "<table border=\"1\" class=\"dataframe\">\n",
       "  <thead>\n",
       "    <tr style=\"text-align: right;\">\n",
       "      <th></th>\n",
       "      <th>date</th>\n",
       "      <th>measurement</th>\n",
       "    </tr>\n",
       "  </thead>\n",
       "  <tbody>\n",
       "    <tr>\n",
       "      <th>0</th>\n",
       "      <td>2016-01-01 00:00:00</td>\n",
       "      <td>0.739159</td>\n",
       "    </tr>\n",
       "    <tr>\n",
       "      <th>1</th>\n",
       "      <td>2016-01-01 00:01:00</td>\n",
       "      <td>0.636203</td>\n",
       "    </tr>\n",
       "    <tr>\n",
       "      <th>2</th>\n",
       "      <td>2016-01-01 00:02:00</td>\n",
       "      <td>-1.746664</td>\n",
       "    </tr>\n",
       "    <tr>\n",
       "      <th>3</th>\n",
       "      <td>2016-01-01 00:03:00</td>\n",
       "      <td>-0.080402</td>\n",
       "    </tr>\n",
       "    <tr>\n",
       "      <th>4</th>\n",
       "      <td>2016-01-01 00:04:00</td>\n",
       "      <td>-1.312652</td>\n",
       "    </tr>\n",
       "  </tbody>\n",
       "</table>\n",
       "</div>"
      ],
      "text/plain": [
       "                 date  measurement\n",
       "0 2016-01-01 00:00:00     0.739159\n",
       "1 2016-01-01 00:01:00     0.636203\n",
       "2 2016-01-01 00:02:00    -1.746664\n",
       "3 2016-01-01 00:03:00    -0.080402\n",
       "4 2016-01-01 00:04:00    -1.312652"
      ]
     },
     "execution_count": 2,
     "metadata": {},
     "output_type": "execute_result"
    }
   ],
   "source": [
    "df = pd.DataFrame()\n",
    "df[\"date\"] = pd.DatetimeIndex(start=\"20160101 00:00:00\", end=\"20160131 23:00:00\", freq=\"T\")\n",
    "df[\"measurement\"] = np.random.randn(len(df))\n",
    "print(len(df))\n",
    "df.head()"
   ]
  },
  {
   "cell_type": "markdown",
   "metadata": {},
   "source": [
    "How do you get the difference from the previous value?\n",
    "\n",
    "Naive option: loop through the dataset and for each row `i`, get the value with an index of `i+1` and subtract"
   ]
  },
  {
   "cell_type": "code",
   "execution_count": 3,
   "metadata": {
    "collapsed": false
   },
   "outputs": [
    {
     "data": {
      "text/html": [
       "<div>\n",
       "<table border=\"1\" class=\"dataframe\">\n",
       "  <thead>\n",
       "    <tr style=\"text-align: right;\">\n",
       "      <th></th>\n",
       "      <th>date</th>\n",
       "      <th>measurement</th>\n",
       "      <th>diff</th>\n",
       "    </tr>\n",
       "  </thead>\n",
       "  <tbody>\n",
       "    <tr>\n",
       "      <th>0</th>\n",
       "      <td>2016-01-01 00:00:00</td>\n",
       "      <td>0.739159</td>\n",
       "      <td>NaN</td>\n",
       "    </tr>\n",
       "    <tr>\n",
       "      <th>1</th>\n",
       "      <td>2016-01-01 00:01:00</td>\n",
       "      <td>0.636203</td>\n",
       "      <td>-0.102955</td>\n",
       "    </tr>\n",
       "    <tr>\n",
       "      <th>2</th>\n",
       "      <td>2016-01-01 00:02:00</td>\n",
       "      <td>-1.746664</td>\n",
       "      <td>-2.382867</td>\n",
       "    </tr>\n",
       "    <tr>\n",
       "      <th>3</th>\n",
       "      <td>2016-01-01 00:03:00</td>\n",
       "      <td>-0.080402</td>\n",
       "      <td>1.666262</td>\n",
       "    </tr>\n",
       "    <tr>\n",
       "      <th>4</th>\n",
       "      <td>2016-01-01 00:04:00</td>\n",
       "      <td>-1.312652</td>\n",
       "      <td>-1.232250</td>\n",
       "    </tr>\n",
       "  </tbody>\n",
       "</table>\n",
       "</div>"
      ],
      "text/plain": [
       "                 date  measurement      diff\n",
       "0 2016-01-01 00:00:00     0.739159       NaN\n",
       "1 2016-01-01 00:01:00     0.636203 -0.102955\n",
       "2 2016-01-01 00:02:00    -1.746664 -2.382867\n",
       "3 2016-01-01 00:03:00    -0.080402  1.666262\n",
       "4 2016-01-01 00:04:00    -1.312652 -1.232250"
      ]
     },
     "execution_count": 3,
     "metadata": {},
     "output_type": "execute_result"
    }
   ],
   "source": [
    "def naive_diff(series):\n",
    "    diff_values = []\n",
    "    for i in range(len(series)):\n",
    "        # first value needs to be NaN\n",
    "        if i == 0:\n",
    "            diff_values.append(np.NaN)\n",
    "        else:\n",
    "            diff_values.append(series[i] - series[i-1])\n",
    "    return diff_values\n",
    "\n",
    "df[\"diff\"] = naive_diff(df[\"measurement\"])\n",
    "df.head()"
   ]
  },
  {
   "cell_type": "markdown",
   "metadata": {},
   "source": [
    "That gives the correct value, but it feels slow even for ~44,000 rows\n",
    "\n",
    "The better approach is to do a vectorised operation, with `.shift()`"
   ]
  },
  {
   "cell_type": "code",
   "execution_count": 4,
   "metadata": {
    "collapsed": false
   },
   "outputs": [
    {
     "data": {
      "text/html": [
       "<div>\n",
       "<table border=\"1\" class=\"dataframe\">\n",
       "  <thead>\n",
       "    <tr style=\"text-align: right;\">\n",
       "      <th></th>\n",
       "      <th>date</th>\n",
       "      <th>measurement</th>\n",
       "      <th>diff</th>\n",
       "      <th>diff_2</th>\n",
       "    </tr>\n",
       "  </thead>\n",
       "  <tbody>\n",
       "    <tr>\n",
       "      <th>0</th>\n",
       "      <td>2016-01-01 00:00:00</td>\n",
       "      <td>0.739159</td>\n",
       "      <td>NaN</td>\n",
       "      <td>NaN</td>\n",
       "    </tr>\n",
       "    <tr>\n",
       "      <th>1</th>\n",
       "      <td>2016-01-01 00:01:00</td>\n",
       "      <td>0.636203</td>\n",
       "      <td>-0.102955</td>\n",
       "      <td>-0.102955</td>\n",
       "    </tr>\n",
       "    <tr>\n",
       "      <th>2</th>\n",
       "      <td>2016-01-01 00:02:00</td>\n",
       "      <td>-1.746664</td>\n",
       "      <td>-2.382867</td>\n",
       "      <td>-2.382867</td>\n",
       "    </tr>\n",
       "    <tr>\n",
       "      <th>3</th>\n",
       "      <td>2016-01-01 00:03:00</td>\n",
       "      <td>-0.080402</td>\n",
       "      <td>1.666262</td>\n",
       "      <td>1.666262</td>\n",
       "    </tr>\n",
       "    <tr>\n",
       "      <th>4</th>\n",
       "      <td>2016-01-01 00:04:00</td>\n",
       "      <td>-1.312652</td>\n",
       "      <td>-1.232250</td>\n",
       "      <td>-1.232250</td>\n",
       "    </tr>\n",
       "  </tbody>\n",
       "</table>\n",
       "</div>"
      ],
      "text/plain": [
       "                 date  measurement      diff    diff_2\n",
       "0 2016-01-01 00:00:00     0.739159       NaN       NaN\n",
       "1 2016-01-01 00:01:00     0.636203 -0.102955 -0.102955\n",
       "2 2016-01-01 00:02:00    -1.746664 -2.382867 -2.382867\n",
       "3 2016-01-01 00:03:00    -0.080402  1.666262  1.666262\n",
       "4 2016-01-01 00:04:00    -1.312652 -1.232250 -1.232250"
      ]
     },
     "execution_count": 4,
     "metadata": {},
     "output_type": "execute_result"
    }
   ],
   "source": [
    "def diff_with_shift(series):\n",
    "    return series - series.shift()\n",
    "\n",
    "df[\"diff_2\"] = diff_with_shift(df[\"measurement\"])\n",
    "\n",
    "df.head()"
   ]
  },
  {
   "cell_type": "markdown",
   "metadata": {},
   "source": [
    "Running that second method felt instantaneous - let's actually time the two approaches"
   ]
  },
  {
   "cell_type": "code",
   "execution_count": 5,
   "metadata": {
    "collapsed": false
   },
   "outputs": [
    {
     "name": "stdout",
     "output_type": "stream",
     "text": [
      "1 loop, best of 3: 1.45 s per loop\n",
      "1000 loops, best of 3: 667 µs per loop\n"
     ]
    }
   ],
   "source": [
    "%timeit naive_diff(df[\"measurement\"])\n",
    "%timeit diff_with_shift(df[\"measurement\"])"
   ]
  },
  {
   "cell_type": "markdown",
   "metadata": {},
   "source": [
    "Obviously the vectorised approach is **much faster**, that's what `numpy` and `pandas` are optimised for.\n",
    "\n",
    "# Example 2 - date functions\n",
    "\n",
    "What if we want to get just the day from the date?\n",
    "\n",
    "Naive option: one by one"
   ]
  },
  {
   "cell_type": "code",
   "execution_count": 6,
   "metadata": {
    "collapsed": true
   },
   "outputs": [],
   "source": [
    "def naive_day(series):\n",
    "    days = []\n",
    "    for s in series:\n",
    "        days.append(s.day)\n",
    "    return days"
   ]
  },
  {
   "cell_type": "markdown",
   "metadata": {},
   "source": [
    "Naive option 2: using `.apply()`\n",
    "\n",
    "Vectorised option: using the in-built `.dt` accessor for date types"
   ]
  },
  {
   "cell_type": "code",
   "execution_count": 7,
   "metadata": {
    "collapsed": false
   },
   "outputs": [
    {
     "name": "stdout",
     "output_type": "stream",
     "text": [
      "1 loop, best of 3: 207 ms per loop\n",
      "1 loop, best of 3: 180 ms per loop\n",
      "100 loops, best of 3: 3.08 ms per loop\n"
     ]
    }
   ],
   "source": [
    "%timeit naive_day(df[\"date\"])\n",
    "%timeit df[\"date\"].apply(lambda x: x.day)\n",
    "%timeit df[\"date\"].dt.day"
   ]
  }
 ],
 "metadata": {
  "anaconda-cloud": {},
  "kernelspec": {
   "display_name": "Python [default]",
   "language": "python",
   "name": "python3"
  },
  "language_info": {
   "codemirror_mode": {
    "name": "ipython",
    "version": 3
   },
   "file_extension": ".py",
   "mimetype": "text/x-python",
   "name": "python",
   "nbconvert_exporter": "python",
   "pygments_lexer": "ipython3",
   "version": "3.4.5"
  }
 },
 "nbformat": 4,
 "nbformat_minor": 1
}
