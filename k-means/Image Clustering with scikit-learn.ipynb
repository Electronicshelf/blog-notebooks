{
 "cells": [
  {
   "cell_type": "markdown",
   "metadata": {},
   "source": [
    "# Image Clustering with scikit-learn\n",
    "\n",
    "This notebook requires pillow (a Python Image Library that works well with Python 3).\n",
    "\n",
    "If you have Anaconda, you can install it with\n",
    "\n",
    "`conda install pillow`"
   ]
  },
  {
   "cell_type": "code",
   "execution_count": 1,
   "metadata": {
    "collapsed": false
   },
   "outputs": [],
   "source": [
    "import pandas as pd\n",
    "import numpy as np\n",
    "from sklearn.cluster import KMeans\n",
    "from PIL import Image\n",
    "from IPython.display import Image as JImage"
   ]
  },
  {
   "cell_type": "markdown",
   "metadata": {},
   "source": [
    "Load the image into memory"
   ]
  },
  {
   "cell_type": "code",
   "execution_count": 2,
   "metadata": {
    "collapsed": true
   },
   "outputs": [],
   "source": [
    "img = Image.open('puppy.jpg')\n",
    "pix = img.load()"
   ]
  },
  {
   "cell_type": "markdown",
   "metadata": {},
   "source": [
    "Extract individual pixels as 3-dimensional RGB vectors"
   ]
  },
  {
   "cell_type": "code",
   "execution_count": 3,
   "metadata": {
    "collapsed": false
   },
   "outputs": [],
   "source": [
    "rgb_vectors = []\n",
    "for x in range(img.width):\n",
    "    for y in range(img.height):\n",
    "        rgb_vec = pix[x,y]\n",
    "        rgb_vectors.append(rgb_vec)"
   ]
  },
  {
   "cell_type": "code",
   "execution_count": 12,
   "metadata": {
    "collapsed": false
   },
   "outputs": [
    {
     "name": "stdout",
     "output_type": "stream",
     "text": [
      "Original image: 43680 pixels, 10424 unique colours\n"
     ]
    }
   ],
   "source": [
    "print(\"Original image: {} pixels, {} unique colours\".format(len(rgb_vectors), len(set(rgb_vectors))))"
   ]
  },
  {
   "cell_type": "markdown",
   "metadata": {},
   "source": [
    "Load the RGB values into a DataFrame"
   ]
  },
  {
   "cell_type": "code",
   "execution_count": 5,
   "metadata": {
    "collapsed": false
   },
   "outputs": [],
   "source": [
    "df = pd.DataFrame(columns=['r', 'g', 'b'])\n",
    "df['r'] = [x[0] for x in rgb_vectors]\n",
    "df['g'] = [x[1] for x in rgb_vectors]\n",
    "df['b'] = [x[2] for x in rgb_vectors]"
   ]
  },
  {
   "cell_type": "markdown",
   "metadata": {},
   "source": [
    "Try different *k* values"
   ]
  },
  {
   "cell_type": "code",
   "execution_count": 6,
   "metadata": {
    "collapsed": false
   },
   "outputs": [
    {
     "name": "stdout",
     "output_type": "stream",
     "text": [
      "Running clustering for k=3\n",
      "Running clustering for k=5\n",
      "Running clustering for k=8\n",
      "Running clustering for k=12\n",
      "Running clustering for k=16\n",
      "Done!\n"
     ]
    }
   ],
   "source": [
    "k_values = [3, 5, 8, 12, 16]\n",
    "\n",
    "for i in range(len(k_values)):\n",
    "    k = k_values[i]\n",
    "    # run clustering\n",
    "    print(\"Running clustering for k=%d\" % k)\n",
    "    kmeans = KMeans(n_clusters=k)\n",
    "    clusters = kmeans.fit_predict(df)\n",
    "    df['cluster'] = clusters\n",
    "    # use the K cluster centroids as new colours to represent the image\n",
    "    colours = [tuple([int(c) for c in x]) for x in kmeans.cluster_centers_]\n",
    "    # create a new image file\n",
    "    new_img = Image.new('RGB', (img.width, img.height))\n",
    "    img_data = new_img.load()\n",
    "    counter = 0\n",
    "    for x in range(img.width):\n",
    "        for y in range(img.height):\n",
    "            # get cluster index from DF\n",
    "            cluster = df.loc[counter,'cluster']\n",
    "            # get associated colour\n",
    "            cluster_colour = colours[cluster]\n",
    "            # add coloured pixel to new image\n",
    "            img_data[x,y] = cluster_colour\n",
    "            counter += 1\n",
    "    new_img_name = 'puppy_{}.jpg'.format(k)\n",
    "    new_img.save(new_img_name)\n",
    "print('Done!')"
   ]
  },
  {
   "cell_type": "markdown",
   "metadata": {},
   "source": [
    "The moral of the story is: even 3 colours can draw a puppy!"
   ]
  },
  {
   "cell_type": "code",
   "execution_count": 7,
   "metadata": {
    "collapsed": false
   },
   "outputs": [
    {
     "data": {
      "image/jpeg": "[encoded data removed]",
      "text/plain": [
       "<IPython.core.display.Image object>"
      ]
     },
     "execution_count": 7,
     "metadata": {},
     "output_type": "execute_result"
    }
   ],
   "source": [
    "JImage('puppy_3.jpg')"
   ]
  },
  {
   "cell_type": "code",
   "execution_count": 8,
   "metadata": {
    "collapsed": false
   },
   "outputs": [
    {
     "data": {
      "image/jpeg": "[encoded data removed]",
      "text/plain": [
       "<IPython.core.display.Image object>"
      ]
     },
     "execution_count": 8,
     "metadata": {},
     "output_type": "execute_result"
    }
   ],
   "source": [
    "JImage('puppy_5.jpg')"
   ]
  },
  {
   "cell_type": "code",
   "execution_count": 9,
   "metadata": {
    "collapsed": false
   },
   "outputs": [
    {
     "data": {
      "image/jpeg": "[encoded data removed]",
      "text/plain": [
       "<IPython.core.display.Image object>"
      ]
     },
     "execution_count": 9,
     "metadata": {},
     "output_type": "execute_result"
    }
   ],
   "source": [
    "JImage('puppy_8.jpg')"
   ]
  },
  {
   "cell_type": "code",
   "execution_count": 10,
   "metadata": {
    "collapsed": false
   },
   "outputs": [
    {
     "data": {
      "image/jpeg": "[encoded data removed]",
      "text/plain": [
       "<IPython.core.display.Image object>"
      ]
     },
     "execution_count": 10,
     "metadata": {},
     "output_type": "execute_result"
    }
   ],
   "source": [
    "JImage('puppy_12.jpg')"
   ]
  },
  {
   "cell_type": "code",
   "execution_count": 11,
   "metadata": {
    "collapsed": false
   },
   "outputs": [
    {
     "data": {
      "image/jpeg": "[encoded data removed]",
      "text/plain": [
       "<IPython.core.display.Image object>"
      ]
     },
     "execution_count": 11,
     "metadata": {},
     "output_type": "execute_result"
    }
   ],
   "source": [
    "JImage('puppy_16.jpg')"
   ]
  }
 ],
 "metadata": {
  "anaconda-cloud": {},
  "kernelspec": {
   "display_name": "Python [default]",
   "language": "python",
   "name": "python3"
  },
  "language_info": {
   "codemirror_mode": {
    "name": "ipython",
    "version": 3
   },
   "file_extension": ".py",
   "mimetype": "text/x-python",
   "name": "python",
   "nbconvert_exporter": "python",
   "pygments_lexer": "ipython3",
   "version": "3.4.5"
  }
 },
 "nbformat": 4,
 "nbformat_minor": 0
}
