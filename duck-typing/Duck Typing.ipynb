{
 "cells": [
  {
   "cell_type": "markdown",
   "metadata": {},
   "source": [
    "# An Introduction to Duck Typing"
   ]
  },
  {
   "cell_type": "code",
   "execution_count": 1,
   "metadata": {
    "collapsed": true
   },
   "outputs": [],
   "source": [
    "def make_it_quack(something_duck_like):\n",
    "    \"\"\"\n",
    "        Take something that can quack, and make it quack!\n",
    "    \"\"\"\n",
    "    something_duck_like.quack()\n",
    "\n",
    "# define some animals\n",
    "class Duck(object):\n",
    "    def quack(self):\n",
    "        print(\"Quack quack\")\n",
    "\n",
    "class Ferret(object):\n",
    "    # ferrets can't normally quack, but this one's cunning\n",
    "    def quack(self):\n",
    "        print(\"Quack quack\")\n",
    "\n",
    "donald = Duck()\n",
    "fred = Ferret()"
   ]
  },
  {
   "cell_type": "markdown",
   "metadata": {},
   "source": [
    "Although they're different types,"
   ]
  },
  {
   "cell_type": "code",
   "execution_count": 2,
   "metadata": {
    "collapsed": false
   },
   "outputs": [
    {
     "name": "stdout",
     "output_type": "stream",
     "text": [
      "<class '__main__.Duck'>\n",
      "<class '__main__.Ferret'>\n"
     ]
    }
   ],
   "source": [
    "print(type(donald))\n",
    "print(type(fred))"
   ]
  },
  {
   "cell_type": "markdown",
   "metadata": {},
   "source": [
    "... both objects can be made to quack"
   ]
  },
  {
   "cell_type": "code",
   "execution_count": 3,
   "metadata": {
    "collapsed": false
   },
   "outputs": [
    {
     "name": "stdout",
     "output_type": "stream",
     "text": [
      "Quack quack\n",
      "Quack quack\n"
     ]
    }
   ],
   "source": [
    "make_it_quack(donald)\n",
    "make_it_quack(fred)"
   ]
  },
  {
   "cell_type": "markdown",
   "metadata": {},
   "source": [
    "## Using duck typing with scikit-learn"
   ]
  },
  {
   "cell_type": "code",
   "execution_count": 4,
   "metadata": {
    "collapsed": true
   },
   "outputs": [],
   "source": [
    "class MyFakeClassifier():\n",
    "    def fit(self, x, y):\n",
    "        print(\"Working VERY HARD...\")\n",
    "    \n",
    "    def predict(self, x):\n",
    "        # predict 0 no matter what\n",
    "        return [0 for item in range(len(x))]"
   ]
  },
  {
   "cell_type": "code",
   "execution_count": 5,
   "metadata": {
    "collapsed": true
   },
   "outputs": [],
   "source": [
    "from sklearn.datasets import load_iris\n",
    "from sklearn.model_selection import train_test_split\n",
    "from sklearn.metrics import accuracy_score, confusion_matrix\n",
    "from sklearn.ensemble import RandomForestClassifier\n",
    "\n",
    "iris = load_iris()\n",
    "X = iris.data\n",
    "y = iris.target\n",
    "\n",
    "# write a function to give us a train-test accuracy score\n",
    "def get_accuracy(model, X, y):\n",
    "    X_train, X_test, y_train, y_test = train_test_split(X, y, test_size=0.3, stratify=y)\n",
    "    model.fit(X_train, y_train)\n",
    "    y_pred = model.predict(X_test)\n",
    "    print(\"Accuracy: {}\\n{}\".format(accuracy_score(y_test, y_pred),\n",
    "                                    confusion_matrix(y_test, y_pred)))\n",
    "\n",
    "rf = RandomForestClassifier()\n",
    "random_model = MyFakeClassifier()"
   ]
  },
  {
   "cell_type": "markdown",
   "metadata": {},
   "source": [
    "We can reuse our function because it quacks like a scikit-learn model!"
   ]
  },
  {
   "cell_type": "code",
   "execution_count": 6,
   "metadata": {
    "collapsed": false
   },
   "outputs": [
    {
     "name": "stdout",
     "output_type": "stream",
     "text": [
      "Random Forest\n",
      "\n",
      "Accuracy: 0.9555555555555556\n",
      "[[15  0  0]\n",
      " [ 0 14  1]\n",
      " [ 0  1 14]]\n",
      "\n",
      "My Random Estimator\n",
      "\n",
      "Working VERY HARD...\n",
      "Accuracy: 0.3333333333333333\n",
      "[[15  0  0]\n",
      " [15  0  0]\n",
      " [15  0  0]]\n"
     ]
    }
   ],
   "source": [
    "print(\"Random Forest\\n\")\n",
    "get_accuracy(rf, X, y)\n",
    "print(\"\\nMy Random Estimator\\n\")\n",
    "get_accuracy(random_model, X, y)"
   ]
  }
 ],
 "metadata": {
  "anaconda-cloud": {},
  "kernelspec": {
   "display_name": "Python [default]",
   "language": "python",
   "name": "python3"
  },
  "language_info": {
   "codemirror_mode": {
    "name": "ipython",
    "version": 3
   },
   "file_extension": ".py",
   "mimetype": "text/x-python",
   "name": "python",
   "nbconvert_exporter": "python",
   "pygments_lexer": "ipython3",
   "version": "3.4.5"
  }
 },
 "nbformat": 4,
 "nbformat_minor": 1
}
